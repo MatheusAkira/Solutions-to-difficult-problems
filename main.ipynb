{
 "cells": [
  {
   "cell_type": "code",
   "execution_count": 207,
   "metadata": {},
   "outputs": [
    {
     "name": "stdout",
     "output_type": "stream",
     "text": [
      "Requirement already satisfied: memory-profiler in /home/matheus/miniconda3/lib/python3.9/site-packages (0.61.0)\n",
      "Requirement already satisfied: psutil in /home/matheus/miniconda3/lib/python3.9/site-packages (from memory-profiler) (5.9.5)\n",
      "\u001b[33mDEPRECATION: pytorch-lightning 1.5.4 has a non-standard dependency specifier torch>=1.7.*. pip 23.3 will enforce this behaviour change. A possible replacement is to upgrade to a newer version of pytorch-lightning or contact the author to suggest that they release a version with a conforming dependency specifiers. Discussion can be found at https://github.com/pypa/pip/issues/12063\u001b[0m\u001b[33m\n",
      "\u001b[0m\n",
      "\u001b[1m[\u001b[0m\u001b[34;49mnotice\u001b[0m\u001b[1;39;49m]\u001b[0m\u001b[39;49m A new release of pip is available: \u001b[0m\u001b[31;49m23.2.1\u001b[0m\u001b[39;49m -> \u001b[0m\u001b[32;49m23.3.1\u001b[0m\n",
      "\u001b[1m[\u001b[0m\u001b[34;49mnotice\u001b[0m\u001b[1;39;49m]\u001b[0m\u001b[39;49m To update, run: \u001b[0m\u001b[32;49mpip install --upgrade pip\u001b[0m\n",
      "Note: you may need to restart the kernel to use updated packages.\n",
      "Requirement already satisfied: timeout_decorator in /home/matheus/miniconda3/lib/python3.9/site-packages (0.5.0)\n",
      "\u001b[33mDEPRECATION: pytorch-lightning 1.5.4 has a non-standard dependency specifier torch>=1.7.*. pip 23.3 will enforce this behaviour change. A possible replacement is to upgrade to a newer version of pytorch-lightning or contact the author to suggest that they release a version with a conforming dependency specifiers. Discussion can be found at https://github.com/pypa/pip/issues/12063\u001b[0m\u001b[33m\n",
      "\u001b[0m\n",
      "\u001b[1m[\u001b[0m\u001b[34;49mnotice\u001b[0m\u001b[1;39;49m]\u001b[0m\u001b[39;49m A new release of pip is available: \u001b[0m\u001b[31;49m23.2.1\u001b[0m\u001b[39;49m -> \u001b[0m\u001b[32;49m23.3.1\u001b[0m\n",
      "\u001b[1m[\u001b[0m\u001b[34;49mnotice\u001b[0m\u001b[1;39;49m]\u001b[0m\u001b[39;49m To update, run: \u001b[0m\u001b[32;49mpip install --upgrade pip\u001b[0m\n",
      "Note: you may need to restart the kernel to use updated packages.\n",
      "Requirement already satisfied: networkx in /home/matheus/miniconda3/lib/python3.9/site-packages (3.2.1)\n",
      "\u001b[33mDEPRECATION: pytorch-lightning 1.5.4 has a non-standard dependency specifier torch>=1.7.*. pip 23.3 will enforce this behaviour change. A possible replacement is to upgrade to a newer version of pytorch-lightning or contact the author to suggest that they release a version with a conforming dependency specifiers. Discussion can be found at https://github.com/pypa/pip/issues/12063\u001b[0m\u001b[33m\n",
      "\u001b[0m\n",
      "\u001b[1m[\u001b[0m\u001b[34;49mnotice\u001b[0m\u001b[1;39;49m]\u001b[0m\u001b[39;49m A new release of pip is available: \u001b[0m\u001b[31;49m23.2.1\u001b[0m\u001b[39;49m -> \u001b[0m\u001b[32;49m23.3.1\u001b[0m\n",
      "\u001b[1m[\u001b[0m\u001b[34;49mnotice\u001b[0m\u001b[1;39;49m]\u001b[0m\u001b[39;49m To update, run: \u001b[0m\u001b[32;49mpip install --upgrade pip\u001b[0m\n",
      "Note: you may need to restart the kernel to use updated packages.\n"
     ]
    }
   ],
   "source": [
    "%pip install memory-profiler\n",
    "%pip install timeout_decorator\n",
    "%pip install networkx"
   ]
  },
  {
   "cell_type": "code",
   "execution_count": 19,
   "metadata": {},
   "outputs": [],
   "source": [
    "import pandas as pd\n",
    "import numpy as np\n",
    "from math import ceil\n",
    "import networkx as nx\n",
    "from timeout_decorator import timeout\n",
    "from queue import PriorityQueue\n",
    "from itertools import combinations\n",
    "import matplotlib.pyplot as plt\n",
    "import time\n",
    "import tracemalloc\n",
    "import os\n",
    "import ast"
   ]
  },
  {
   "cell_type": "code",
   "execution_count": 20,
   "metadata": {},
   "outputs": [],
   "source": [
    "#Determinando tempo máximo de 3min\n",
    "MAX_TIME_SEG = 1800"
   ]
  },
  {
   "cell_type": "markdown",
   "metadata": {},
   "source": [
    "### Criando funções auxiliares"
   ]
  },
  {
   "cell_type": "markdown",
   "metadata": {},
   "source": [
    "#### Criando dataset com o nome dos arquivos e ordenando em ordem crescente de acordo com o tamanho dos nós"
   ]
  },
  {
   "cell_type": "code",
   "execution_count": 21,
   "metadata": {},
   "outputs": [
    {
     "name": "stdout",
     "output_type": "stream",
     "text": [
      "     Dataset    Nós               Limiar\n",
      "0      eil51     51                  426\n",
      "1   berlin52     52                 7542\n",
      "2       st70     70                  675\n",
      "3      eil76     76                  538\n",
      "4       pr76     76               108159\n",
      "..       ...    ...                  ...\n",
      "73   rl11849  11849      [920847,923368]\n",
      "74  usa13509  13509  [19947008,19982889]\n",
      "75  brd14051  14051      [468942,469445]\n",
      "76    d15112  15112    [1564590,1573152]\n",
      "77    d18512  18512      [644650,645488]\n",
      "\n",
      "[78 rows x 3 columns]\n"
     ]
    }
   ],
   "source": [
    "caminho_arquivo = 'datasets_limiar.txt'\n",
    "df_dados_dataset = pd.read_csv(caminho_arquivo, delimiter='\\t')\n",
    "\n",
    "# Ordenando pelo tamanho dos nós\n",
    "df_dados_dataset  = df_dados_dataset .sort_values(by='Nós')\n",
    "print(df_dados_dataset )"
   ]
  },
  {
   "cell_type": "markdown",
   "metadata": {},
   "source": [
    "#### Função para calcular a distância euclidiana"
   ]
  },
  {
   "cell_type": "code",
   "execution_count": 22,
   "metadata": {},
   "outputs": [],
   "source": [
    "def distancia_euclidiana(pontos):\n",
    "    np.array(pontos)\n",
    "    arestas_euclidiana = []\n",
    "    tamanho_pontos = len(pontos)\n",
    "\n",
    "    for i in range(tamanho_pontos):\n",
    "        for j in range(i+1, tamanho_pontos):\n",
    "            # Distância Euclidiana\n",
    "            ponto_i = np.array(pontos[i])\n",
    "            ponto_j = np.array(pontos[j])\n",
    "            distancia_euclidiana = np.linalg.norm(ponto_i - ponto_j)\n",
    "            arestas_euclidiana.append((i, j, distancia_euclidiana))\n",
    "\n",
    "    return arestas_euclidiana"
   ]
  },
  {
   "cell_type": "markdown",
   "metadata": {},
   "source": [
    "Teste:"
   ]
  },
  {
   "cell_type": "code",
   "execution_count": 23,
   "metadata": {},
   "outputs": [
    {
     "name": "stdout",
     "output_type": "stream",
     "text": [
      "Pontos 0 e 1: Distância Euclidiana = 1.4142135623730951\n",
      "Pontos 0 e 2: Distância Euclidiana = 2.8284271247461903\n",
      "Pontos 0 e 3: Distância Euclidiana = 4.242640687119285\n",
      "Pontos 1 e 2: Distância Euclidiana = 1.4142135623730951\n",
      "Pontos 1 e 3: Distância Euclidiana = 2.8284271247461903\n",
      "Pontos 2 e 3: Distância Euclidiana = 1.4142135623730951\n"
     ]
    }
   ],
   "source": [
    "pontos = np.array([[0, 0], [1, 1], [2, 2], [3, 3]])\n",
    "arestas_euclidiana = distancia_euclidiana(pontos)\n",
    "\n",
    "for aresta in arestas_euclidiana:\n",
    "    print(f'Pontos {aresta[0]} e {aresta[1]}: Distância Euclidiana = {aresta[2]}')"
   ]
  },
  {
   "cell_type": "markdown",
   "metadata": {},
   "source": [
    "#### Criando função extrair informações dos datasets"
   ]
  },
  {
   "cell_type": "code",
   "execution_count": 24,
   "metadata": {},
   "outputs": [],
   "source": [
    "def dataset_info(idx_dataset, df_dados_dataset):\n",
    "    name_dataset = df_dados_dataset.loc[idx_dataset, 'Dataset']\n",
    "    tsp_file_path = \"datasets/\" + name_dataset + \".tsp\"\n",
    "    # Lendo o arquivo\n",
    "    with open(tsp_file_path, 'r') as file:\n",
    "        lines = file.readlines()\n",
    "\n",
    "    # Encontrando a seção NODE_COORD_SECTION\n",
    "    coord_section_index = lines.index('NODE_COORD_SECTION\\n')\n",
    "\n",
    "    # Criando um grafo direcionado\n",
    "    G = nx.Graph()\n",
    "\n",
    "    # Adicionando nós e coordenadas ao grafo\n",
    "    for line in lines[coord_section_index + 1:]:\n",
    "        # Ignorar a linha EOF\n",
    "        if line.strip().lower() == 'eof':\n",
    "            break\n",
    "\n",
    "        node_info = line.split()\n",
    "\n",
    "        if len(node_info) >= 3:\n",
    "            node_id = int(node_info[0])\n",
    "            x_coord = float(node_info[1])\n",
    "            y_coord = float(node_info[2])\n",
    "            G.add_node(node_id, pos=(x_coord, y_coord))\n",
    "    \n",
    "    # Extrair apenas as coordenadas\n",
    "    cordenadas = [pos for _, pos in G.nodes(data='pos')]\n",
    "            \n",
    "    numero_de_nos = int(df_dados_dataset.loc[idx_dataset, 'Nós'])\n",
    "\n",
    "    if '[' in df_dados_dataset.loc[idx_dataset, 'Limiar']:\n",
    "        # Avaliar a string como uma lista\n",
    "        lista_valores = ast.literal_eval(df_dados_dataset.loc[idx_dataset, 'Limiar'])\n",
    "        \n",
    "        # Obter o primeiro valor\n",
    "        primeiro_valor = lista_valores[0]\n",
    "        limiar = primeiro_valor\n",
    "\n",
    "    else:\n",
    "        # Se não for uma lista, converter para inteiro diretamente\n",
    "        limiar = int(df_dados_dataset.loc[idx_dataset, 'Limiar'])\n",
    "\n",
    "    \n",
    "    return cordenadas, numero_de_nos, limiar, name_dataset"
   ]
  },
  {
   "cell_type": "markdown",
   "metadata": {},
   "source": [
    "Teste:"
   ]
  },
  {
   "cell_type": "code",
   "execution_count": 25,
   "metadata": {},
   "outputs": [
    {
     "name": "stdout",
     "output_type": "stream",
     "text": [
      "Numero_de_nos:  51\n",
      "Limiar:  426\n",
      "Cordenadas:\n",
      "[(37.0, 52.0), (49.0, 49.0), (52.0, 64.0), (20.0, 26.0), (40.0, 30.0), (21.0, 47.0), (17.0, 63.0), (31.0, 62.0), (52.0, 33.0), (51.0, 21.0), (42.0, 41.0), (31.0, 32.0), (5.0, 25.0), (12.0, 42.0), (36.0, 16.0), (52.0, 41.0), (27.0, 23.0), (17.0, 33.0), (13.0, 13.0), (57.0, 58.0), (62.0, 42.0), (42.0, 57.0), (16.0, 57.0), (8.0, 52.0), (7.0, 38.0), (27.0, 68.0), (30.0, 48.0), (43.0, 67.0), (58.0, 48.0), (58.0, 27.0), (37.0, 69.0), (38.0, 46.0), (46.0, 10.0), (61.0, 33.0), (62.0, 63.0), (63.0, 69.0), (32.0, 22.0), (45.0, 35.0), (59.0, 15.0), (5.0, 6.0), (10.0, 17.0), (21.0, 10.0), (5.0, 64.0), (30.0, 15.0), (39.0, 10.0), (32.0, 39.0), (25.0, 32.0), (25.0, 55.0), (48.0, 28.0), (56.0, 37.0), (30.0, 40.0)]\n"
     ]
    }
   ],
   "source": [
    "idx_dataset = 0\n",
    "cordenadas, numero_de_nos, limiar,  name_dataset = dataset_info(idx_dataset, df_dados_dataset)\n",
    "\n",
    "print(\"Numero_de_nos: \", numero_de_nos)\n",
    "print(\"Limiar: \", limiar)\n",
    "\n",
    "print(\"Cordenadas:\")\n",
    "print(cordenadas)\n"
   ]
  },
  {
   "cell_type": "markdown",
   "metadata": {},
   "source": [
    "### Implementando algoritmos para solucionar o problema do caxeiro viajante"
   ]
  },
  {
   "cell_type": "markdown",
   "metadata": {},
   "source": [
    "#### Branch and bound (Solução ótima)"
   ]
  },
  {
   "cell_type": "code",
   "execution_count": 26,
   "metadata": {},
   "outputs": [],
   "source": [
    "class Node:\n",
    "    def __init__(self, bound, nivel, custo, solucao):\n",
    "        # 'bound': Limite associado ao nó na árvore do Branch and Bound.\n",
    "        self.bound = bound\n",
    "        # 'nivel': Nível na árvore em que o nó está localizado.\n",
    "        self.nivel = nivel\n",
    "        # 'custo': Custo associado ao nó (custo acumulado até o nó atual).\n",
    "        self.custo = custo\n",
    "        # 'solucao': Solução parcial associada ao nó.\n",
    "        self.solucao = solucao\n",
    "\n",
    "    # Método para comparar dois nós com base em seus limites (bound).\n",
    "    # Esse método é utilizado para determinar a ordem de prioridade em uma fila de prioridade.\n",
    "    def __lt__(self, outro):\n",
    "        return self.bound < outro.bound\n"
   ]
  },
  {
   "cell_type": "code",
   "execution_count": 27,
   "metadata": {},
   "outputs": [],
   "source": [
    "def bound(G, nodes):\n",
    "    # Inicializando a estimativa total\n",
    "    estimativa = 0\n",
    "    \n",
    "    size_nodes = len(nodes)\n",
    "    # Convertendo a lista de vértices em listas de arestas\n",
    "    edges = [(nodes[i], nodes[i+1]) for i in range(size_nodes-1)]\n",
    "    \n",
    "    # Calculando a estimativa com base nas arestas\n",
    "    for (u, v) in edges:\n",
    "        # Somando o dobro do peso da aresta ao custo total\n",
    "        estimativa += (2 * G[u][v]['weight'])\n",
    "    \n",
    "   \n",
    "    # Iterando sobre os vértices do grafo\n",
    "    for u in G.nodes():          \n",
    "        # Filtrando as arestas que incidem no vértice 'u'\n",
    "        arestas_u = list(filter(lambda x: x[0] == u or x[1] == u, edges))\n",
    "        \n",
    "        size_arestas_u = len(arestas_u)\n",
    "        # Verificando se 'u' tem menos de duas arestas incidentes\n",
    "        if size_arestas_u < 2:\n",
    "            # Obtendo os dados das arestas incidentes a 'u' e ordenando por peso\n",
    "            dados_u = list(G.edges(u, data=True))\n",
    "            dados_u = sorted(dados_u, key=lambda x: x[2]['weight'])\n",
    "            w1, w2 = dados_u[0][2]['weight'], dados_u[1][2]['weight']\n",
    "            \n",
    "            # Caso 'u' não tenha arestas incidentes, adicionamos os dois menores pesos\n",
    "            if size_arestas_u == 0:\n",
    "                estimativa += w1\n",
    "                estimativa += w2\n",
    "            \n",
    "            # Caso 'u' tenha uma aresta incidente, adicionamos o menor peso necessário\n",
    "            elif size_arestas_u == 1:\n",
    "                u, v = arestas_u[0]\n",
    "                peso_necessario = G[u][v]['weight']\n",
    "                estimativa += w1 if w1 < peso_necessario else w2\n",
    "    \n",
    "    # Arredondando para cima e retornando a estimativa dividida por 2\n",
    "    output = ceil(estimativa / 2)\n",
    "    return output"
   ]
  },
  {
   "cell_type": "code",
   "execution_count": 28,
   "metadata": {},
   "outputs": [],
   "source": [
    "@timeout(MAX_TIME_SEG)\n",
    "def branch_and_bound(grafo):\n",
    "    \n",
    "    tracemalloc.start()  # Inicia o rastreamento de alocação de memória\n",
    "    G = grafo.copy()\n",
    "\n",
    "    # Criando o nó raiz da árvore do Branch and Bound\n",
    "    raiz = Node(bound(G, []), 1, 0, [0])\n",
    "    \n",
    "    # Inicializando a fila de prioridade com o nó raiz\n",
    "    fila_prioridade = PriorityQueue()\n",
    "    fila_prioridade.put(raiz)\n",
    "\n",
    "    # Inicializando variáveis para armazenar a melhor solução encontrada\n",
    "    melhor_solucao = np.inf\n",
    "    solucao_encontrada = []\n",
    "    \n",
    "    # Percorrendo a fila de prioridade\n",
    "    while not fila_prioridade.empty():\n",
    "\n",
    "        # Obtendo o próximo nó da fila de prioridade\n",
    "        no = fila_prioridade.get()\n",
    "\n",
    "        # Verificando se o nó atual é uma folha da árvore\n",
    "        if no.nivel == G.number_of_nodes():\n",
    "            # Calculando o custo total da solução encontrada\n",
    "            custo_total = no.custo + G[no.solucao[-1]][0]['weight']\n",
    "            \n",
    "            # Atualizando a melhor solução, se aplicável\n",
    "            if custo_total < melhor_solucao:\n",
    "                melhor_solucao = custo_total\n",
    "                solucao_encontrada = no.solucao + [0]\n",
    "        elif no.bound < melhor_solucao and no.nivel < G.number_of_nodes():\n",
    "            v = no.solucao[-1]\n",
    "            # Explorando os nós filhos do nó atual\n",
    "            for k in range(G.number_of_nodes()):\n",
    "                if k not in no.solucao and G.has_edge(v, k):\n",
    "                    nova_solucao = no.solucao + [k]\n",
    "                    estimativa = bound(G, nova_solucao)\n",
    "                    # Verificando se a estimativa é melhor do que a melhor solução conhecida\n",
    "                    if estimativa < melhor_solucao:\n",
    "                        novo_custo = no.custo + G[v][k]['weight']\n",
    "                        # Adicionando o novo nó à fila de prioridade\n",
    "                        fila_prioridade.put(Node(estimativa, no.nivel+1, novo_custo, nova_solucao))\n",
    "    # Mede o pico de uso de memória durante a execução da função e\n",
    "    # converte o valor para megabytes para facilitar a leitura. \n",
    "\n",
    "    _ , peak = tracemalloc.get_traced_memory()\n",
    "    tracemalloc.stop()  # Interrompe o rastreamento de alocação de memória\n",
    "\n",
    "    espaco_gasto_mb = peak / (1024 ** 2)  # Converte bytes para megabytes\n",
    "\n",
    "    # Retornando a melhor solução encontrada, o custo, o tempo de execução e se o tempo limite foi excedido\n",
    "    return solucao_encontrada, melhor_solucao, espaco_gasto_mb\n"
   ]
  },
  {
   "cell_type": "markdown",
   "metadata": {},
   "source": [
    "Teste:"
   ]
  },
  {
   "cell_type": "code",
   "execution_count": 29,
   "metadata": {},
   "outputs": [],
   "source": [
    "#idx_dataset = 0\n",
    "#cordenadas, numero_de_nos, limiar = dataset_info(idx_dataset, df_dados_dataset)\n",
    "\n",
    "#arestas_euclidiana = distancia_euclidiana(cordenadas)\n",
    "#G = nx.Graph()\n",
    "#G.add_weighted_edges_from(arestas_euclidiana)\n",
    "#_, comprimento = branch_and_bound(G)\n",
    "\n",
    "#print(\"Valor esperado: \", limiar )\n",
    "#print(\"Valor obtido: \",comprimento )\n",
    "\n"
   ]
  },
  {
   "cell_type": "markdown",
   "metadata": {},
   "source": [
    "#### Christofides (1.5 aproximado)"
   ]
  },
  {
   "cell_type": "code",
   "execution_count": 30,
   "metadata": {},
   "outputs": [],
   "source": [
    "@timeout(MAX_TIME_SEG)\n",
    "def christofides(grafo):\n",
    "    tracemalloc.start()  # Inicia o rastreamento de alocação de memória\n",
    "    \n",
    "    G = grafo.copy()\n",
    "    # Encontrando a árvore geradora mínima do grafo\n",
    "    AGM = nx.minimum_spanning_tree(G)\n",
    "\n",
    "    # Criando o conjunto de vértices com grau ímpar e construindo um subgrafo induzido\n",
    "    vertices_grau_impar = [vertice for vertice in AGM.nodes() if AGM.degree(vertice) % 2 == 1]\n",
    "    grafo_induzido = G.subgraph(vertices_grau_impar)\n",
    "\n",
    "    # Invertendo o peso das arestas para calcular o emparelhamento perfeito de peso mínimo\n",
    "    for u, v in grafo_induzido.edges():\n",
    "        grafo_induzido[u][v]['weight'] *= -1\n",
    "\n",
    "    # Encontrando o emparelhamento perfeito de peso mínimo e revertendo os pesos\n",
    "    emparelhamento_min_peso = nx.max_weight_matching(grafo_induzido, maxcardinality=True)\n",
    "\n",
    "    # Criando um subgrafo induzido com as arestas do emparelhamento perfeito de peso mínimo\n",
    "    grafo_emparelhamento_min_peso = G.edge_subgraph(emparelhamento_min_peso)\n",
    "\n",
    "    # Criando um multigrafo com os vértices de G e as arestas da AGM e do emparelhamento perfeito de peso mínimo\n",
    "    multigrafo = nx.MultiGraph()\n",
    "    multigrafo.add_weighted_edges_from(AGM.edges.data('weight'))\n",
    "    multigrafo.add_weighted_edges_from(grafo_emparelhamento_min_peso.edges.data('weight'))\n",
    "\n",
    "    # Computando o circuito euleriano\n",
    "    circuito_euleriano = [u for u, v in nx.eulerian_circuit(multigrafo, source=0)]\n",
    "\n",
    "    # Removendo vértices duplicados para construir um circuito hamiltoniano\n",
    "    caminho = list(dict.fromkeys(circuito_euleriano))\n",
    "    caminho.append(0)\n",
    "\n",
    "    # Calculando o comprimento do caminho encontrado\n",
    "    comprimento = sum(grafo[u][v]['weight'] for u, v in zip(caminho, caminho[1:]))\n",
    "\n",
    "    # Mede o pico de uso de memória durante a execução da função e\n",
    "    # converte o valor para megabytes para facilitar a leitura. \n",
    "\n",
    "    _ , peak = tracemalloc.get_traced_memory()\n",
    "    tracemalloc.stop()  # Interrompe o rastreamento de alocação de memória\n",
    "\n",
    "    espaco_gasto_mb = peak / (1024 ** 2)  # Converte bytes para megabytes\n",
    "\n",
    "    return caminho, comprimento, espaco_gasto_mb\n"
   ]
  },
  {
   "cell_type": "markdown",
   "metadata": {},
   "source": [
    "#### twice around the tree (2 aproximado)"
   ]
  },
  {
   "cell_type": "code",
   "execution_count": 31,
   "metadata": {},
   "outputs": [],
   "source": [
    "@timeout(MAX_TIME_SEG)\n",
    "def twice_around_the_tree(grafo):\n",
    "    \n",
    "    tracemalloc.start()  # Inicia o rastreamento de alocação de memória\n",
    "    \n",
    "    G = grafo.copy()\n",
    "\n",
    "    # Encontra a Árvore Geradora Mínima do grafo\n",
    "    arvore_geradora_minima = nx.minimum_spanning_tree(G)\n",
    "\n",
    "    # Realiza uma caminhada em pré-ordem pela árvore, usando o vértice 0 como raiz\n",
    "    caminho = list(nx.dfs_preorder_nodes(arvore_geradora_minima, source=0))\n",
    "    caminho.append(0)\n",
    "\n",
    "    # Calcula o comprimento do caminho encontrado\n",
    "    comprimento = sum(G[u][v]['weight'] for u, v in zip(caminho, caminho[1:]))\n",
    "\n",
    "    # Mede o pico de uso de memória durante a execução da função e\n",
    "    # converte o valor para megabytes para facilitar a leitura. \n",
    "\n",
    "    _ , peak = tracemalloc.get_traced_memory()\n",
    "    tracemalloc.stop()  # Interrompe o rastreamento de alocação de memória\n",
    "\n",
    "    espaco_gasto_mb = peak / (1024 ** 2)  # Converte bytes para megabytes\n",
    "    return caminho, comprimento, espaco_gasto_mb "
   ]
  },
  {
   "cell_type": "code",
   "execution_count": 32,
   "metadata": {},
   "outputs": [],
   "source": [
    "def analise_dados(idx_dataset, df_dados_dataset, dataset_info, alg):\n",
    "    cordenadas, numero_de_nos, limiar, name_dataset = dataset_info(idx_dataset, df_dados_dataset)\n",
    "    apro = 0\n",
    "    tempo_execucao = 0\n",
    "    espaco_gasto_mb = 0\n",
    "\n",
    "    arestas_euclidiana = distancia_euclidiana(cordenadas)\n",
    "    G = nx.Graph()\n",
    "    G.add_weighted_edges_from(arestas_euclidiana)\n",
    "    \n",
    "    if alg == \"bb\":\n",
    "        start_time = time.time()\n",
    "        _, comprimento, espaco_gasto_mb = branch_and_bound(G)\n",
    "        end_time = time.time()\n",
    "        tempo_execucao = end_time - start_time\n",
    "        apro = 1\n",
    "       \n",
    "    elif alg == \"chr\":\n",
    "        \n",
    "        start_time = time.time()\n",
    "        _, comprimento, espaco_gasto_mb = christofides(G)\n",
    "        end_time = time.time()\n",
    "        tempo_execucao = end_time - start_time\n",
    "        apro = 1.5\n",
    "          \n",
    "    elif alg == \"tat\":\n",
    "        start_time = time.time()\n",
    "        _, comprimento, espaco_gasto_mb= twice_around_the_tree(G)\n",
    "        end_time = time.time()\n",
    "        tempo_execucao = end_time - start_time\n",
    "        apro = 2\n",
    "\n",
    "    taxa_de_aproximacao = (comprimento / limiar)\n",
    "    valor_max_esperado = apro * limiar\n",
    "\n",
    "    return limiar, valor_max_esperado, comprimento, \\\n",
    "           taxa_de_aproximacao, numero_de_nos, name_dataset,\\\n",
    "           tempo_execucao, espaco_gasto_mb"
   ]
  },
  {
   "cell_type": "markdown",
   "metadata": {},
   "source": [
    "Teste:"
   ]
  },
  {
   "cell_type": "markdown",
   "metadata": {},
   "source": [
    "#### Criando datasets com a analise dos algoritmos branch-and-bound, o algoritmo twice-around-the-tree, e o algoritmo de Christofides"
   ]
  },
  {
   "cell_type": "code",
   "execution_count": 33,
   "metadata": {},
   "outputs": [],
   "source": [
    "#idx_dataset = 0\n",
    "#alg = \"bb\"\n",
    "#analise_dados(idx_dataset, df_dados_dataset, dataset_info, alg)"
   ]
  },
  {
   "cell_type": "code",
   "execution_count": 34,
   "metadata": {},
   "outputs": [],
   "source": [
    "def analise_completa(df_dados_dataset, dataset_info, alg, nome_arquivo):\n",
    "    # Verifica se o arquivo já existe\n",
    "    if os.path.exists(nome_arquivo):\n",
    "        print(\"Arquivo existente\")\n",
    "        return\n",
    "    \n",
    "    if alg == \"chr\":\n",
    "        algoritmo_name = \"christofides\"\n",
    "    elif alg == \"tat\":\n",
    "        algoritmo_name = \"twice_around_the_tree\"\n",
    "    elif alg == \"bb\":\n",
    "        algoritmo_name = \"branch_and_bound\"\n",
    "        \n",
    "    \n",
    "    # Copia o dataframe original\n",
    "    df = df_dados_dataset.copy()\n",
    "\n",
    "    # Adiciona colunas ao novo dataframe\n",
    "    colunas_novas = [\"algoritmo\", \"tempo execução\", \"taxa aproximação atingida\", \"custo caminho atingido\", \"Espaço (MB) usado\"]\n",
    "    df[colunas_novas] = pd.NA\n",
    "\n",
    "    df[\"algoritmo\"] = df[\"algoritmo\"].fillna(algoritmo_name)\n",
    "\n",
    "    # Salva o novo dataframe em um arquivo txt\n",
    "    df.to_csv(nome_arquivo, sep='\\t', index=False)\n",
    "    \n",
    "    # Loop para preencher as colunas do novo dataframe\n",
    "    for idx, row in df.iterrows():\n",
    "        limiar, valor_max_esperado, comprimento, taxa_de_aproximacao, numero_de_nos, name_dataset, tempo_execucao, espaco_gasto_mb = analise_dados(idx, df_dados_dataset, dataset_info, alg)\n",
    "        \n",
    "        if name_dataset == row['Dataset']:\n",
    "            df.at[idx, \"tempo execução\"] = tempo_execucao\n",
    "            df.at[idx, \"taxa aproximação atingida\"] = taxa_de_aproximacao\n",
    "            df.at[idx, \"custo caminho atingido\"] = comprimento\n",
    "            df.at[idx, \"Espaço (MB) usado\"] = espaco_gasto_mb\n",
    "    \n",
    "        # Salva o novo dataframe em um arquivo txt\n",
    "        df.to_csv(nome_arquivo, sep='\\t', index=False)"
   ]
  },
  {
   "cell_type": "code",
   "execution_count": 35,
   "metadata": {},
   "outputs": [
    {
     "name": "stdout",
     "output_type": "stream",
     "text": [
      "Arquivo existente\n"
     ]
    }
   ],
   "source": [
    "alg = \"tat\"\n",
    "nome_arquivo = \"analise_twice-around-the-tree.txt\"\n",
    "analise_completa(df_dados_dataset, dataset_info, alg, nome_arquivo)"
   ]
  },
  {
   "cell_type": "code",
   "execution_count": 36,
   "metadata": {},
   "outputs": [],
   "source": [
    "alg = \"chr\"\n",
    "nome_arquivo = \"analise_christofide.txt\"\n",
    "analise_completa(df_dados_dataset, dataset_info, alg, nome_arquivo)"
   ]
  },
  {
   "cell_type": "code",
   "execution_count": null,
   "metadata": {},
   "outputs": [],
   "source": [
    "alg = \"bb\"\n",
    "nome_arquivo = \"analise_branch_and_bound.txt\"\n",
    "analise_completa(df_dados_dataset, dataset_info, alg, nome_arquivo)"
   ]
  },
  {
   "cell_type": "code",
   "execution_count": null,
   "metadata": {},
   "outputs": [
    {
     "data": {
      "text/html": [
       "<div>\n",
       "<style scoped>\n",
       "    .dataframe tbody tr th:only-of-type {\n",
       "        vertical-align: middle;\n",
       "    }\n",
       "\n",
       "    .dataframe tbody tr th {\n",
       "        vertical-align: top;\n",
       "    }\n",
       "\n",
       "    .dataframe thead th {\n",
       "        text-align: right;\n",
       "    }\n",
       "</style>\n",
       "<table border=\"1\" class=\"dataframe\">\n",
       "  <thead>\n",
       "    <tr style=\"text-align: right;\">\n",
       "      <th></th>\n",
       "      <th>Dataset</th>\n",
       "      <th>Nós</th>\n",
       "      <th>Limiar</th>\n",
       "      <th>algoritmo</th>\n",
       "      <th>tempo execução</th>\n",
       "      <th>taxa aproximação atingida</th>\n",
       "      <th>custo caminho atingido</th>\n",
       "      <th>Espaço (MB) usado</th>\n",
       "    </tr>\n",
       "  </thead>\n",
       "  <tbody>\n",
       "    <tr>\n",
       "      <th>0</th>\n",
       "      <td>eil51</td>\n",
       "      <td>51</td>\n",
       "      <td>426</td>\n",
       "      <td>twice_around_the_tree</td>\n",
       "      <td>0.267234</td>\n",
       "      <td>1.504463</td>\n",
       "      <td>640.901223</td>\n",
       "      <td>23.478447</td>\n",
       "    </tr>\n",
       "    <tr>\n",
       "      <th>1</th>\n",
       "      <td>berlin52</td>\n",
       "      <td>52</td>\n",
       "      <td>7542</td>\n",
       "      <td>twice_around_the_tree</td>\n",
       "      <td>0.042360</td>\n",
       "      <td>1.341291</td>\n",
       "      <td>10116.014496</td>\n",
       "      <td>0.493385</td>\n",
       "    </tr>\n",
       "    <tr>\n",
       "      <th>2</th>\n",
       "      <td>st70</td>\n",
       "      <td>70</td>\n",
       "      <td>675</td>\n",
       "      <td>twice_around_the_tree</td>\n",
       "      <td>0.115438</td>\n",
       "      <td>1.293854</td>\n",
       "      <td>873.351486</td>\n",
       "      <td>0.861557</td>\n",
       "    </tr>\n",
       "    <tr>\n",
       "      <th>3</th>\n",
       "      <td>eil76</td>\n",
       "      <td>76</td>\n",
       "      <td>538</td>\n",
       "      <td>twice_around_the_tree</td>\n",
       "      <td>0.202921</td>\n",
       "      <td>1.314411</td>\n",
       "      <td>707.153320</td>\n",
       "      <td>1.001778</td>\n",
       "    </tr>\n",
       "    <tr>\n",
       "      <th>4</th>\n",
       "      <td>pr76</td>\n",
       "      <td>76</td>\n",
       "      <td>108159</td>\n",
       "      <td>twice_around_the_tree</td>\n",
       "      <td>0.208561</td>\n",
       "      <td>1.343745</td>\n",
       "      <td>145338.114452</td>\n",
       "      <td>1.001671</td>\n",
       "    </tr>\n",
       "    <tr>\n",
       "      <th>...</th>\n",
       "      <td>...</td>\n",
       "      <td>...</td>\n",
       "      <td>...</td>\n",
       "      <td>...</td>\n",
       "      <td>...</td>\n",
       "      <td>...</td>\n",
       "      <td>...</td>\n",
       "      <td>...</td>\n",
       "    </tr>\n",
       "    <tr>\n",
       "      <th>73</th>\n",
       "      <td>rl11849</td>\n",
       "      <td>11849</td>\n",
       "      <td>[920847,923368]</td>\n",
       "      <td>twice_around_the_tree</td>\n",
       "      <td>NaN</td>\n",
       "      <td>NaN</td>\n",
       "      <td>NaN</td>\n",
       "      <td>NaN</td>\n",
       "    </tr>\n",
       "    <tr>\n",
       "      <th>74</th>\n",
       "      <td>usa13509</td>\n",
       "      <td>13509</td>\n",
       "      <td>[19947008,19982889]</td>\n",
       "      <td>twice_around_the_tree</td>\n",
       "      <td>NaN</td>\n",
       "      <td>NaN</td>\n",
       "      <td>NaN</td>\n",
       "      <td>NaN</td>\n",
       "    </tr>\n",
       "    <tr>\n",
       "      <th>75</th>\n",
       "      <td>brd14051</td>\n",
       "      <td>14051</td>\n",
       "      <td>[468942,469445]</td>\n",
       "      <td>twice_around_the_tree</td>\n",
       "      <td>NaN</td>\n",
       "      <td>NaN</td>\n",
       "      <td>NaN</td>\n",
       "      <td>NaN</td>\n",
       "    </tr>\n",
       "    <tr>\n",
       "      <th>76</th>\n",
       "      <td>d15112</td>\n",
       "      <td>15112</td>\n",
       "      <td>[1564590,1573152]</td>\n",
       "      <td>twice_around_the_tree</td>\n",
       "      <td>NaN</td>\n",
       "      <td>NaN</td>\n",
       "      <td>NaN</td>\n",
       "      <td>NaN</td>\n",
       "    </tr>\n",
       "    <tr>\n",
       "      <th>77</th>\n",
       "      <td>d18512</td>\n",
       "      <td>18512</td>\n",
       "      <td>[644650,645488]</td>\n",
       "      <td>twice_around_the_tree</td>\n",
       "      <td>NaN</td>\n",
       "      <td>NaN</td>\n",
       "      <td>NaN</td>\n",
       "      <td>NaN</td>\n",
       "    </tr>\n",
       "  </tbody>\n",
       "</table>\n",
       "<p>78 rows × 8 columns</p>\n",
       "</div>"
      ],
      "text/plain": [
       "     Dataset    Nós               Limiar              algoritmo  \\\n",
       "0      eil51     51                  426  twice_around_the_tree   \n",
       "1   berlin52     52                 7542  twice_around_the_tree   \n",
       "2       st70     70                  675  twice_around_the_tree   \n",
       "3      eil76     76                  538  twice_around_the_tree   \n",
       "4       pr76     76               108159  twice_around_the_tree   \n",
       "..       ...    ...                  ...                    ...   \n",
       "73   rl11849  11849      [920847,923368]  twice_around_the_tree   \n",
       "74  usa13509  13509  [19947008,19982889]  twice_around_the_tree   \n",
       "75  brd14051  14051      [468942,469445]  twice_around_the_tree   \n",
       "76    d15112  15112    [1564590,1573152]  twice_around_the_tree   \n",
       "77    d18512  18512      [644650,645488]  twice_around_the_tree   \n",
       "\n",
       "    tempo execução  taxa aproximação atingida  custo caminho atingido  \\\n",
       "0         0.267234                   1.504463              640.901223   \n",
       "1         0.042360                   1.341291            10116.014496   \n",
       "2         0.115438                   1.293854              873.351486   \n",
       "3         0.202921                   1.314411              707.153320   \n",
       "4         0.208561                   1.343745           145338.114452   \n",
       "..             ...                        ...                     ...   \n",
       "73             NaN                        NaN                     NaN   \n",
       "74             NaN                        NaN                     NaN   \n",
       "75             NaN                        NaN                     NaN   \n",
       "76             NaN                        NaN                     NaN   \n",
       "77             NaN                        NaN                     NaN   \n",
       "\n",
       "    Espaço (MB) usado  \n",
       "0           23.478447  \n",
       "1            0.493385  \n",
       "2            0.861557  \n",
       "3            1.001778  \n",
       "4            1.001671  \n",
       "..                ...  \n",
       "73                NaN  \n",
       "74                NaN  \n",
       "75                NaN  \n",
       "76                NaN  \n",
       "77                NaN  \n",
       "\n",
       "[78 rows x 8 columns]"
      ]
     },
     "metadata": {},
     "output_type": "display_data"
    }
   ],
   "source": [
    "atat = 'analise_twice-around-the-tree.txt'\n",
    "df_atat = pd.read_csv(atat, sep='\\t')\n",
    "display(df_atat)\n",
    "\n",
    "achr = 'analise_christofide.txt'\n",
    "df_achr = pd.read_csv(achr, sep='\\t')\n",
    "display(df_achr)\n",
    "\n",
    "abb = 'analise_branch_and_bound.txt'\n",
    "df_bb = pd.read_csv(abb, sep='\\t')\n",
    "display(df_bb)\n"
   ]
  },
  {
   "cell_type": "code",
   "execution_count": null,
   "metadata": {},
   "outputs": [
    {
     "data": {
      "image/png": "[encoded data removed]",
      "text/plain": [
       "<Figure size 1000x600 with 1 Axes>"
      ]
     },
     "metadata": {},
     "output_type": "display_data"
    }
   ],
   "source": [
    "# Plota a coluna 'Espaço (MB) usado'\n",
    "plt.figure(figsize=(10, 6))\n",
    "plt.plot(df_atat['Espaço (MB) usado'], marker='o', linestyle='-')\n",
    "plt.title('Espaço (MB) usado - ATAT')\n",
    "plt.xlabel('Índice')\n",
    "plt.ylabel('Espaço (MB) usado')\n",
    "plt.grid(True)\n",
    "plt.show()"
   ]
  }
 ],
 "metadata": {
  "kernelspec": {
   "display_name": "Python 3",
   "language": "python",
   "name": "python3"
  },
  "language_info": {
   "codemirror_mode": {
    "name": "ipython",
    "version": 3
   },
   "file_extension": ".py",
   "mimetype": "text/x-python",
   "name": "python",
   "nbconvert_exporter": "python",
   "pygments_lexer": "ipython3",
   "version": "3.9.12"
  }
 },
 "nbformat": 4,
 "nbformat_minor": 4
}
